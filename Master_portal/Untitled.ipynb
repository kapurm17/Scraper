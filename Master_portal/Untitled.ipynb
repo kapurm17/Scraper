{
 "cells": [
  {
   "cell_type": "code",
   "execution_count": 86,
   "metadata": {},
   "outputs": [],
   "source": [
    "import requests\n",
    "import selenium \n",
    "from selenium import webdriver\n",
    "from selenium.webdriver.common.keys import Keys\n",
    "from bs4 import BeautifulSoup\n",
    "import time\n",
    "import pandas as pd"
   ]
  },
  {
   "cell_type": "code",
   "execution_count": 45,
   "metadata": {},
   "outputs": [],
   "source": [
    "url = 'https://www.mastersportal.com/search/#q=lv-master|oi-11804'"
   ]
  },
  {
   "cell_type": "code",
   "execution_count": 46,
   "metadata": {},
   "outputs": [],
   "source": [
    "driver = webdriver.Chrome(r\"C:\\Users\\admin\\Desktop\\Python\\Untitled Folder\\chromedriver\")\n",
    "driver.implicitly_wait(30)\n",
    "driver.get(url)\n",
    "courses = []\n",
    "duration = []\n",
    "cost = []\n",
    "ms_bs = []\n",
    "mode= []\n",
    "location = []\n",
    "time.sleep(5)\n",
    "j=1\n",
    "while(j):\n",
    "    data = driver.page_source\n",
    "    soup = BeautifulSoup(data)\n",
    "    table = soup.find('div', {'id':\"StudySearchResultsStudies\", 'class': \"TrackingLinkedList\"})\n",
    "    crs_blk = table.find_all('a')\n",
    "    \n",
    "    \n",
    "    for i in range(len(crs_blk)):\n",
    "        cont = crs_blk[i].find('div', {'class': \"InformationContainer\"})\n",
    "        dur_cost = crs_blk[i].find('div', {'class': 'InformationRight'})\n",
    "        footer = crs_blk[i].find('div', {'class': 'CardFooter'})\n",
    "        loc_mode = crs_blk[i].find('div', {'class': 'InformationLeft'})\n",
    "        try:\n",
    "            courses.append(cont.find('h3', {'class': 'StudyTitle InformationLeft'}).text)\n",
    "            duration.append(dur_cost.find('span', {'class': 'js-duration Fact KeyFact'}).text)\n",
    "            cost.append(dur_cost.find('span', {'class': 'Fact KeyFact'}).text)\n",
    "            ms_bs.append(footer.find('span').text)\n",
    "            location.append(loc_mode.find_all('span', {'class', 'Fact LocationFact'})[0].text)\n",
    "            mode.append(loc_mode.find_all('span', {'class', 'Fact LocationFact'})[1].text)\n",
    "            print(\"added\")\n",
    "        except:\n",
    "            pass\n",
    "    \n",
    "    \n",
    "    try:\n",
    "        driver.find_element_by_xpath('//*[@id=\"ResultsPagination\"]/div/nav/ul/li[10]/button').click()\n",
    "        time.sleep(2)\n",
    "        print(driver.current_url)\n",
    "    except:\n",
    "        break\n",
    "        "
   ]
  },
  {
   "cell_type": "code",
   "execution_count": 47,
   "metadata": {},
   "outputs": [],
   "source": [
    "df = pd.DataFrame({'Location': location, 'Course': courses, 'Duration': duration, 'Cost': cost, 'MS/BS': ms_bs, 'Mode': mode })"
   ]
  },
  {
   "cell_type": "code",
   "execution_count": 89,
   "metadata": {},
   "outputs": [],
   "source": [
    "df.to_excel('Mastr_portal_UBC.xlsx')"
   ]
  },
  {
   "cell_type": "code",
   "execution_count": null,
   "metadata": {},
   "outputs": [],
   "source": []
  },
  {
   "cell_type": "code",
   "execution_count": null,
   "metadata": {},
   "outputs": [],
   "source": []
  },
  {
   "cell_type": "code",
   "execution_count": null,
   "metadata": {},
   "outputs": [],
   "source": []
  },
  {
   "cell_type": "code",
   "execution_count": null,
   "metadata": {},
   "outputs": [],
   "source": []
  },
  {
   "cell_type": "code",
   "execution_count": null,
   "metadata": {},
   "outputs": [],
   "source": []
  },
  {
   "cell_type": "code",
   "execution_count": null,
   "metadata": {},
   "outputs": [],
   "source": []
  },
  {
   "cell_type": "code",
   "execution_count": null,
   "metadata": {},
   "outputs": [],
   "source": []
  },
  {
   "cell_type": "code",
   "execution_count": null,
   "metadata": {},
   "outputs": [],
   "source": []
  },
  {
   "cell_type": "code",
   "execution_count": null,
   "metadata": {},
   "outputs": [],
   "source": []
  },
  {
   "cell_type": "code",
   "execution_count": null,
   "metadata": {},
   "outputs": [],
   "source": []
  },
  {
   "cell_type": "code",
   "execution_count": null,
   "metadata": {},
   "outputs": [],
   "source": []
  },
  {
   "cell_type": "code",
   "execution_count": null,
   "metadata": {},
   "outputs": [],
   "source": []
  },
  {
   "cell_type": "code",
   "execution_count": null,
   "metadata": {},
   "outputs": [],
   "source": []
  },
  {
   "cell_type": "code",
   "execution_count": null,
   "metadata": {},
   "outputs": [],
   "source": []
  },
  {
   "cell_type": "code",
   "execution_count": null,
   "metadata": {},
   "outputs": [],
   "source": []
  },
  {
   "cell_type": "code",
   "execution_count": null,
   "metadata": {},
   "outputs": [],
   "source": []
  },
  {
   "cell_type": "code",
   "execution_count": null,
   "metadata": {},
   "outputs": [],
   "source": []
  }
 ],
 "metadata": {
  "kernelspec": {
   "display_name": "Python 3",
   "language": "python",
   "name": "python3"
  },
  "language_info": {
   "codemirror_mode": {
    "name": "ipython",
    "version": 3
   },
   "file_extension": ".py",
   "mimetype": "text/x-python",
   "name": "python",
   "nbconvert_exporter": "python",
   "pygments_lexer": "ipython3",
   "version": "3.7.3"
  }
 },
 "nbformat": 4,
 "nbformat_minor": 2
}
