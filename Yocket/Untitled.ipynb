{
 "cells": [
  {
   "cell_type": "code",
   "execution_count": 1,
   "metadata": {},
   "outputs": [],
   "source": [
    "import requests\n",
    "import selenium \n",
    "from selenium import webdriver\n",
    "from selenium.webdriver.common.keys import Keys\n",
    "from bs4 import BeautifulSoup\n",
    "import time\n",
    "import pandas as pd"
   ]
  },
  {
   "cell_type": "code",
   "execution_count": 3,
   "metadata": {},
   "outputs": [],
   "source": [
    "url = \"https://yocket.in/university-application-deadlines\""
   ]
  },
  {
   "cell_type": "code",
   "execution_count": 29,
   "metadata": {},
   "outputs": [
    {
     "name": "stdout",
     "output_type": "stream",
     "text": [
      "https://yocket.in/university-application-deadlines?page=2\n",
      "https://yocket.in/university-application-deadlines?page=3\n",
      "https://yocket.in/university-application-deadlines?page=4\n",
      "https://yocket.in/university-application-deadlines?page=5\n",
      "https://yocket.in/university-application-deadlines?page=6\n",
      "https://yocket.in/university-application-deadlines?page=7\n",
      "https://yocket.in/university-application-deadlines?page=8\n",
      "https://yocket.in/university-application-deadlines?page=9\n",
      "https://yocket.in/university-application-deadlines?page=10\n",
      "https://yocket.in/university-application-deadlines?page=11\n",
      "https://yocket.in/university-application-deadlines?page=12\n",
      "https://yocket.in/university-application-deadlines?page=13\n",
      "https://yocket.in/university-application-deadlines?page=13\n",
      "https://yocket.in/university-application-deadlines?page=13\n",
      "https://yocket.in/university-application-deadlines?page=13\n",
      "https://yocket.in/university-application-deadlines?page=13\n",
      "https://yocket.in/university-application-deadlines?page=13\n"
     ]
    },
    {
     "ename": "KeyboardInterrupt",
     "evalue": "",
     "output_type": "error",
     "traceback": [
      "\u001b[1;31m---------------------------------------------------------------------------\u001b[0m",
      "\u001b[1;31mKeyboardInterrupt\u001b[0m                         Traceback (most recent call last)",
      "\u001b[1;32m<ipython-input-29-c57771c8393d>\u001b[0m in \u001b[0;36m<module>\u001b[1;34m\u001b[0m\n\u001b[0;32m     35\u001b[0m         \u001b[1;32mexcept\u001b[0m\u001b[1;33m:\u001b[0m\u001b[1;33m\u001b[0m\u001b[1;33m\u001b[0m\u001b[0m\n\u001b[0;32m     36\u001b[0m             \u001b[1;32mpass\u001b[0m\u001b[1;33m\u001b[0m\u001b[1;33m\u001b[0m\u001b[0m\n\u001b[1;32m---> 37\u001b[1;33m     \u001b[0mtime\u001b[0m\u001b[1;33m.\u001b[0m\u001b[0msleep\u001b[0m\u001b[1;33m(\u001b[0m\u001b[1;36m4\u001b[0m\u001b[1;33m)\u001b[0m\u001b[1;33m\u001b[0m\u001b[1;33m\u001b[0m\u001b[0m\n\u001b[0m\u001b[0;32m     38\u001b[0m     \u001b[0mprint\u001b[0m\u001b[1;33m(\u001b[0m\u001b[0mdriver\u001b[0m\u001b[1;33m.\u001b[0m\u001b[0mcurrent_url\u001b[0m\u001b[1;33m)\u001b[0m\u001b[1;33m\u001b[0m\u001b[1;33m\u001b[0m\u001b[0m\n\u001b[0;32m     39\u001b[0m \u001b[1;33m\u001b[0m\u001b[0m\n",
      "\u001b[1;31mKeyboardInterrupt\u001b[0m: "
     ]
    }
   ],
   "source": [
    "#Doesnt work since the html's element that has the url, has different xpath everytime\n",
    "driver = webdriver.Chrome(r\"C:\\Users\\admin\\Desktop\\Python\\Untitled Folder\\chromedriver\")\n",
    "driver.implicitly_wait(30)\n",
    "driver.get(url)\n",
    "\n",
    "\n",
    "uni = []\n",
    "crs =[]\n",
    "dead =[]\n",
    "term = []\n",
    "\n",
    "while(1):\n",
    "    \n",
    "    data = driver.page_source\n",
    "    soup = BeautifulSoup(data)\n",
    "    try:\n",
    "        table = soup.find('table', {\"class\":\"table table-striped\"})\n",
    "    except:\n",
    "        break\n",
    "    tbody = table.find('tbody')\n",
    "    rows = tbody.find_all('tr')\n",
    "    for i in range(len(rows)):\n",
    "        dat = rows[i].find_all('td')\n",
    "        uni.append(dat[0].text)\n",
    "        crs.append(dat[1].text)  \n",
    "        term.append(dat[2].text)\n",
    "        dead.append(dat[3].text)\n",
    "        \n",
    "\n",
    "    time.sleep(4)\n",
    "    print(driver.current_url)\n",
    "    "
   ]
  },
  {
   "cell_type": "code",
   "execution_count": null,
   "metadata": {},
   "outputs": [],
   "source": [
    "#initializing the webdriver\n",
    "driver = webdriver.Chrome(r\"C:\\Users\\admin\\Desktop\\Python\\Untitled Folder\\chromedriver\")\n",
    "driver.implicitly_wait(30)\n",
    "\n",
    "#initialize the empty lists\n",
    "uni1 = []\n",
    "crs1 =[]\n",
    "dead1 =[]\n",
    "term1= []\n",
    "\n",
    "#part of url thats common\n",
    "bs_url = 'https://yocket.in/university-application-deadlines?page='\n",
    "#initialize page number\n",
    "j = 1\n",
    "while(j>0):\n",
    "    #since page 1 has  a different url\n",
    "    if j == 1:\n",
    "        url = 'https://yocket.in/university-application-deadlines'\n",
    "    else:\n",
    "        url = 'https://yocket.in/university-application-deadlines?page=' + str(j)\n",
    "    \n",
    "    driver.get(url)\n",
    "    time.sleep(3)\n",
    "    #get the html page source\n",
    "    d= driver.page_source\n",
    "    soup = BeautifulSoup(d)\n",
    "    #if the page has a table\n",
    "    try:\n",
    "        table = soup.find('table', {\"class\":\"table table-striped\"})\n",
    "    #else\n",
    "    except:\n",
    "        break\n",
    "    #finding thje tbody data\n",
    "    tbody = table.find('tbody')\n",
    "    \n",
    "    #finding the list of rows\n",
    "    rows = tbody.find_all('tr')\n",
    "    \n",
    "    \n",
    "    for i in range(len(rows)):\n",
    "        dat = rows[i].find_all('td')\n",
    "        uni1.append(dat[0].text)\n",
    "        crs1.append(dat[1].text)  \n",
    "        term1.append(dat[2].text)\n",
    "        dead1.append(dat[3].text)\n",
    "        \n",
    "\n",
    "    time.sleep(4)\n",
    "    print(\"page Number:\", j)\n",
    "    j = j+1"
   ]
  },
  {
   "cell_type": "code",
   "execution_count": null,
   "metadata": {},
   "outputs": [],
   "source": [
    "df = pd.DataFrame({'uni': uni1, 'course': crs1, 'term': term1, 'dead': dead1})\n",
    "df.to_excel('yocket_final.xlsx')"
   ]
  },
  {
   "cell_type": "code",
   "execution_count": 21,
   "metadata": {},
   "outputs": [],
   "source": []
  },
  {
   "cell_type": "code",
   "execution_count": null,
   "metadata": {},
   "outputs": [],
   "source": [
    "\n"
   ]
  },
  {
   "cell_type": "code",
   "execution_count": null,
   "metadata": {},
   "outputs": [],
   "source": []
  },
  {
   "cell_type": "code",
   "execution_count": null,
   "metadata": {},
   "outputs": [],
   "source": [
    "\n"
   ]
  },
  {
   "cell_type": "code",
   "execution_count": null,
   "metadata": {},
   "outputs": [],
   "source": [
    "\n"
   ]
  },
  {
   "cell_type": "code",
   "execution_count": null,
   "metadata": {},
   "outputs": [],
   "source": []
  },
  {
   "cell_type": "code",
   "execution_count": null,
   "metadata": {},
   "outputs": [],
   "source": []
  },
  {
   "cell_type": "code",
   "execution_count": 79,
   "metadata": {},
   "outputs": [
    {
     "name": "stdout",
     "output_type": "stream",
     "text": [
      "1\n",
      "2\n",
      "3\n",
      "4\n",
      "5\n",
      "6\n",
      "7\n",
      "8\n",
      "9\n",
      "10\n",
      "11\n",
      "12\n",
      "13\n",
      "14\n",
      "15\n",
      "16\n",
      "17\n",
      "18\n",
      "19\n",
      "20\n",
      "21\n",
      "22\n"
     ]
    },
    {
     "ename": "AttributeError",
     "evalue": "'NoneType' object has no attribute 'find'",
     "output_type": "error",
     "traceback": [
      "\u001b[1;31m---------------------------------------------------------------------------\u001b[0m",
      "\u001b[1;31mAttributeError\u001b[0m                            Traceback (most recent call last)",
      "\u001b[1;32m<ipython-input-79-a3c6d204d271>\u001b[0m in \u001b[0;36m<module>\u001b[1;34m\u001b[0m\n\u001b[0;32m     22\u001b[0m     \u001b[1;32mexcept\u001b[0m\u001b[1;33m:\u001b[0m\u001b[1;33m\u001b[0m\u001b[1;33m\u001b[0m\u001b[0m\n\u001b[0;32m     23\u001b[0m         \u001b[1;32mbreak\u001b[0m\u001b[1;33m\u001b[0m\u001b[1;33m\u001b[0m\u001b[0m\n\u001b[1;32m---> 24\u001b[1;33m     \u001b[0mtbody\u001b[0m \u001b[1;33m=\u001b[0m \u001b[0mtable\u001b[0m\u001b[1;33m.\u001b[0m\u001b[0mfind\u001b[0m\u001b[1;33m(\u001b[0m\u001b[1;34m'tbody'\u001b[0m\u001b[1;33m)\u001b[0m\u001b[1;33m\u001b[0m\u001b[1;33m\u001b[0m\u001b[0m\n\u001b[0m\u001b[0;32m     25\u001b[0m     \u001b[0mrows\u001b[0m \u001b[1;33m=\u001b[0m \u001b[0mtbody\u001b[0m\u001b[1;33m.\u001b[0m\u001b[0mfind_all\u001b[0m\u001b[1;33m(\u001b[0m\u001b[1;34m'tr'\u001b[0m\u001b[1;33m)\u001b[0m\u001b[1;33m\u001b[0m\u001b[1;33m\u001b[0m\u001b[0m\n\u001b[0;32m     26\u001b[0m     \u001b[1;32mfor\u001b[0m \u001b[0mi\u001b[0m \u001b[1;32min\u001b[0m \u001b[0mrange\u001b[0m\u001b[1;33m(\u001b[0m\u001b[0mlen\u001b[0m\u001b[1;33m(\u001b[0m\u001b[0mrows\u001b[0m\u001b[1;33m)\u001b[0m\u001b[1;33m)\u001b[0m\u001b[1;33m:\u001b[0m\u001b[1;33m\u001b[0m\u001b[1;33m\u001b[0m\u001b[0m\n",
      "\u001b[1;31mAttributeError\u001b[0m: 'NoneType' object has no attribute 'find'"
     ]
    }
   ],
   "source": []
  },
  {
   "cell_type": "code",
   "execution_count": null,
   "metadata": {},
   "outputs": [],
   "source": []
  },
  {
   "cell_type": "code",
   "execution_count": 81,
   "metadata": {},
   "outputs": [],
   "source": []
  },
  {
   "cell_type": "code",
   "execution_count": 83,
   "metadata": {},
   "outputs": [],
   "source": []
  },
  {
   "cell_type": "code",
   "execution_count": null,
   "metadata": {},
   "outputs": [],
   "source": []
  },
  {
   "cell_type": "code",
   "execution_count": null,
   "metadata": {},
   "outputs": [],
   "source": []
  }
 ],
 "metadata": {
  "kernelspec": {
   "display_name": "Python 3",
   "language": "python",
   "name": "python3"
  },
  "language_info": {
   "codemirror_mode": {
    "name": "ipython",
    "version": 3
   },
   "file_extension": ".py",
   "mimetype": "text/x-python",
   "name": "python",
   "nbconvert_exporter": "python",
   "pygments_lexer": "ipython3",
   "version": "3.7.3"
  }
 },
 "nbformat": 4,
 "nbformat_minor": 2
}
